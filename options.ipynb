{
  "nbformat": 4,
  "nbformat_minor": 0,
  "metadata": {
    "colab": {
      "name": "options.ipynb",
      "provenance": [],
      "authorship_tag": "ABX9TyPwViHAtZkCErpAzO5iTOD2",
      "include_colab_link": true
    },
    "kernelspec": {
      "name": "python3",
      "display_name": "Python 3"
    },
    "language_info": {
      "name": "python"
    }
  },
  "cells": [
    {
      "cell_type": "markdown",
      "metadata": {
        "id": "view-in-github",
        "colab_type": "text"
      },
      "source": [
        "<a href=\"https://colab.research.google.com/github/MLDL-FederatedLearning-project/FederatedLearning/blob/main/options.ipynb\" target=\"_parent\"><img src=\"https://colab.research.google.com/assets/colab-badge.svg\" alt=\"Open In Colab\"/></a>"
      ]
    },
    {
      "cell_type": "code",
      "metadata": {
        "id": "5HfS3vRBHqlW"
      },
      "source": [
        "import argparse\n",
        "import os\n",
        "\n",
        "dir_path = os.path.dirname(os.path.realpath(__file__))\n",
        "\n",
        "def args_parser():\n",
        "    parser = argparse.ArgumentParser()\n",
        "\n",
        "    # federated arguments (Notation for the arguments followed from paper)\n",
        "    parser.add_argument('--data_dir', type=str, default=\"/Users/fabiana/PycharmProjects/FED_paper/\",\n",
        "                        help=\"directory of the project\")\n",
        "    parser.add_argument('--centralized', type=int, default=1,\n",
        "                        help=\"default value = 1 for the centralized model, for the federated put 0\")\n",
        "    parser.add_argument('--epochs', type=int, default=0,\n",
        "                        help=\"number of rounds of training\")\n",
        "    parser.add_argument('--communication_rounds', type=int, default=1,\n",
        "                        help=\"number of communication rounds\")\n",
        "    parser.add_argument('--batch_size', type=int, default=64,\n",
        "                        help=\"BATCH_SIZE\")\n",
        "    parser.add_argument('--num_users', type=int, default=10,\n",
        "                        help=\"number of users: K\")\n",
        "    parser.add_argument('--frac', type=float, default=0.1,\n",
        "                        help='the fraction of clients: C')\n",
        "    parser.add_argument('--local_ep', type=int, default=2,\n",
        "                        help=\"the number of local epochs: E\")\n",
        "    parser.add_argument('--local_batch_size', type=int, default=64,\n",
        "                        help=\"local batch size: B\")\n",
        "    parser.add_argument('--lr', type=float, default=0.01,\n",
        "                        help='learning rate')\n",
        "    parser.add_argument('--momentum', type=float, default=0.9,\n",
        "                        help='SGD momentum')\n",
        "    parser.add_argument('--weight_decay', type=float, default=0.0004,\n",
        "                        help='weight_decay')\n",
        "\n",
        "    # model arguments\n",
        "    parser.add_argument('--model', type=str, default='cnn', help='model name')\n",
        "    parser.add_argument('--kernel_num', type=int, default=9,\n",
        "                        help='number of each kind of kernel')\n",
        "    parser.add_argument('--kernel_sizes', type=str, default='3,4,5',\n",
        "                        help='comma-separated kernel size to \\\n",
        "                        use for convolution')\n",
        "    parser.add_argument('--num_channels', type=int, default=1, help=\"number \\\n",
        "                        of channels of imgs\")\n",
        "    parser.add_argument('--norm', type=str, default='batch_norm',\n",
        "                        help=\"batch_norm, layer_norm, or None\")\n",
        "    parser.add_argument('--num_filters', type=int, default=32,\n",
        "                        help=\"number of filters for conv nets -- 32 for \\\n",
        "                        mini-imagenet, 64 for omiglot.\")\n",
        "    parser.add_argument('--max_pool', type=str, default='True',\n",
        "                        help=\"Whether use max pooling rather than \\\n",
        "                        strided convolutions\")\n",
        "\n",
        "    # other arguments\n",
        "    parser.add_argument('--dataset', type=str, default='cifar10', help=\"name \\\n",
        "                        of dataset\")\n",
        "    parser.add_argument('--num_classes', type=int, default=10, help=\"number \\\n",
        "                        of classes\")\n",
        "    parser.add_argument('--gpu', default=None, help=\"To use cuda, set \\\n",
        "                        to a specific GPU ID. Default set to use CPU.\")\n",
        "    parser.add_argument('--optimizer', type=str, default='sgd', help=\"type \\\n",
        "                        of optimizer\")\n",
        "    parser.add_argument('--iid', type=int, default=1,\n",
        "                        help='Default set to iid=1. For non iid use 0')\n",
        "    parser.add_argument('--balanced', type=int, default=1,\n",
        "                        help='Default set to balanced =1. For unbalanced set to 0')\n",
        "    parser.add_argument('--stopping_rounds', type=int, default=10,\n",
        "                        help='rounds of early stopping')\n",
        "    parser.add_argument('--verbose', type=int, default=1, help='verbose')\n",
        "    parser.add_argument('--seed', type=int, default=1, help='random seed')\n",
        "     #experiment arguments\n",
        "    parser.add_argument('--partition', type=str, default='homo', metavar='N',\n",
        "                        help='how to partition the dataset on local workers')\n",
        "    parser.add_argument('--retrain_lr', type=float, default=0.01, metavar='RLR',\n",
        "                        help='learning rate using in specific for local network retrain (default: 0.01)')\n",
        "    parser.add_argument('--retrain_epochs', type=int, default=1, metavar='REP',\n",
        "                        help='how many epochs will be trained in during the locally retraining process')\n",
        "    parser.add_argument('--partition_step_size', type=int, default=6, metavar='PSS',\n",
        "                        help='how many groups of partitions we will have')\n",
        "    parser.add_argument('--local_points', type=int, default=5000, metavar='LP',\n",
        "                        help='the approximate fixed number of data points we will have on each local worker')\n",
        "    parser.add_argument('--partition_step', type=int, default=0, metavar='PS',\n",
        "                        help='how many sub groups we are going to use for a particular training process')\n",
        "    parser.add_argument('--n_nets', type=int, default=2, metavar='NN',\n",
        "                        help='number of workers in a distributed cluster')\n",
        "    parser.add_argument('--retrain', type=bool, default=False,\n",
        "                        help='whether to retrain the model or load model locally')\n",
        "    parser.add_argument('--minor-frac', type=float, default=0.05, metavar='N',\n",
        "                        help='how many batches to wait before logging training status')\n",
        "    parser.add_argument('--minor-frac-test', type=float, default=0.5, metavar='N',\n",
        "                        help='the fraction of gray scale images in the test set')\n",
        "    parser.add_argument('--rematching', type=bool, default=False,\n",
        "                        help='whether to recalculating the matching process (this is for speeding up the debugging process)')\n",
        "    parser.add_argument('--oneshot_matching', type=bool, default=False, metavar='OM',\n",
        "                        help='if the code is going to conduct one shot matching')\n",
        "    parser.add_argument('--comm_type', type=str, default='fedma',\n",
        "                        help='which type of communication strategy is going to be used: fedma/fedavg/...layerwise/blockwise')\n",
        "    parser.add_argument('--comm_round', type=int, default=2,\n",
        "                        help='how many round of communications we shoud use')\n",
        "    args = parser.parse_args()\n",
        "    return args"
      ],
      "execution_count": null,
      "outputs": []
    },
    {
      "cell_type": "code",
      "metadata": {
        "id": "aNQs_OEaHzjD"
      },
      "source": [
        ""
      ],
      "execution_count": null,
      "outputs": []
    }
  ]
}